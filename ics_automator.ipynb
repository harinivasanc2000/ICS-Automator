{
 "cells": [
  {
   "cell_type": "code",
   "execution_count": 1,
   "metadata": {},
   "outputs": [
    {
     "ename": "ModuleNotFoundError",
     "evalue": "No module named 'ics'",
     "output_type": "error",
     "traceback": [
      "\u001b[0;31m---------------------------------------------------------------------------\u001b[0m",
      "\u001b[0;31mModuleNotFoundError\u001b[0m                       Traceback (most recent call last)",
      "\u001b[1;32m/Users/harinivasanchandrasekaran/Desktop/VS Code/Personal Projects/ICS Automator/script.ipynb Cell 1\u001b[0m line \u001b[0;36m1\n\u001b[0;32m----> <a href='vscode-notebook-cell:/Users/harinivasanchandrasekaran/Desktop/VS%20Code/Personal%20Projects/ICS%20Automator/script.ipynb#W0sZmlsZQ%3D%3D?line=0'>1</a>\u001b[0m \u001b[39mfrom\u001b[39;00m \u001b[39mics\u001b[39;00m \u001b[39mimport\u001b[39;00m Calender, Event\n",
      "\u001b[0;31mModuleNotFoundError\u001b[0m: No module named 'ics'"
     ]
    }
   ],
   "source": [
    "from ics import Calender, Event\n"
   ]
  },
  {
   "cell_type": "code",
   "execution_count": null,
   "metadata": {},
   "outputs": [
    {
     "ename": "ModuleNotFoundError",
     "evalue": "No module named 'icalender'",
     "output_type": "error",
     "traceback": [
      "\u001b[0;31m---------------------------------------------------------------------------\u001b[0m",
      "\u001b[0;31mModuleNotFoundError\u001b[0m                       Traceback (most recent call last)",
      "\u001b[1;32m/Users/harinivasanchandrasekaran/Desktop/VS Code/Personal Projects/ICS Automator/script.ipynb Cell 2\u001b[0m line \u001b[0;36m1\n\u001b[0;32m----> <a href='vscode-notebook-cell:/Users/harinivasanchandrasekaran/Desktop/VS%20Code/Personal%20Projects/ICS%20Automator/script.ipynb#W3sZmlsZQ%3D%3D?line=0'>1</a>\u001b[0m \u001b[39mimport\u001b[39;00m \u001b[39micalender\u001b[39;00m\n",
      "\u001b[0;31mModuleNotFoundError\u001b[0m: No module named 'icalender'"
     ]
    }
   ],
   "source": []
  },
  {
   "cell_type": "code",
   "execution_count": null,
   "metadata": {},
   "outputs": [
    {
     "ename": "NameError",
     "evalue": "name 'Calender' is not defined",
     "output_type": "error",
     "traceback": [
      "\u001b[0;31m---------------------------------------------------------------------------\u001b[0m",
      "\u001b[0;31mNameError\u001b[0m                                 Traceback (most recent call last)",
      "\u001b[1;32m/Users/harinivasanchandrasekaran/Desktop/VS Code/Personal Projects/ICS Automator/script.ipynb Cell 2\u001b[0m line \u001b[0;36m2\n\u001b[1;32m      <a href='vscode-notebook-cell:/Users/harinivasanchandrasekaran/Desktop/VS%20Code/Personal%20Projects/ICS%20Automator/script.ipynb#W0sZmlsZQ%3D%3D?line=0'>1</a>\u001b[0m \u001b[39mfrom\u001b[39;00m \u001b[39mdatetime\u001b[39;00m \u001b[39mimport\u001b[39;00m datetime\n\u001b[0;32m----> <a href='vscode-notebook-cell:/Users/harinivasanchandrasekaran/Desktop/VS%20Code/Personal%20Projects/ICS%20Automator/script.ipynb#W0sZmlsZQ%3D%3D?line=1'>2</a>\u001b[0m c \u001b[39m=\u001b[39m Calender()\n\u001b[1;32m      <a href='vscode-notebook-cell:/Users/harinivasanchandrasekaran/Desktop/VS%20Code/Personal%20Projects/ICS%20Automator/script.ipynb#W0sZmlsZQ%3D%3D?line=2'>3</a>\u001b[0m e \u001b[39m=\u001b[39m Event()\n\u001b[1;32m      <a href='vscode-notebook-cell:/Users/harinivasanchandrasekaran/Desktop/VS%20Code/Personal%20Projects/ICS%20Automator/script.ipynb#W0sZmlsZQ%3D%3D?line=4'>5</a>\u001b[0m e\u001b[39m.\u001b[39mname \u001b[39m=\u001b[39m \u001b[39m\"\u001b[39m\u001b[39m Iceland Interview\u001b[39m\u001b[39m\"\u001b[39m\n",
      "\u001b[0;31mNameError\u001b[0m: name 'Calender' is not defined"
     ]
    }
   ],
   "source": [
    "\n",
    "\n",
    "from datetime import datetime\n",
    "c = Calender()\n",
    "e = Event()\n",
    "\n",
    "e.name = \" Iceland Interview\"\n",
    "e.begin = '2024-10-07 13:00:00'\n",
    "e.end = '2024-10-07 14:00:00'\n",
    "e.location = \"G78 1SL\"\n",
    "\n",
    "c.events.add(e)\n",
    "\n",
    "ics_file_path = \"Downloads/Schedule.ics\"\n",
    "\n",
    "# Create the event again and save it\n",
    "with open(ics_file_path, 'w') as f:\n",
    "    f.writelines(c)\n",
    "\n",
    "ics_file_path"
   ]
  },
  {
   "cell_type": "code",
   "execution_count": null,
   "metadata": {},
   "outputs": [],
   "source": []
  }
 ],
 "metadata": {
  "kernelspec": {
   "display_name": "Python 3",
   "language": "python",
   "name": "python3"
  },
  "language_info": {
   "codemirror_mode": {
    "name": "ipython",
    "version": 3
   },
   "file_extension": ".py",
   "mimetype": "text/x-python",
   "name": "python",
   "nbconvert_exporter": "python",
   "pygments_lexer": "ipython3",
   "version": "3.11.6"
  },
  "orig_nbformat": 4
 },
 "nbformat": 4,
 "nbformat_minor": 2
}
